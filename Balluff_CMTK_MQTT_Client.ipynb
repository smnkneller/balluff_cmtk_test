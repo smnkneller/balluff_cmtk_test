{
 "cells": [
  {
   "cell_type": "markdown",
   "id": "e8e7971f-f92e-47eb-a2a0-e2881f7deea0",
   "metadata": {},
   "source": [
    "# MQTT Signal im lokalen Netz empfangen\n",
    "- ACHTUNG: die Host-IP adresse weicht von der in der Anleitung ab, sobald man nicht direkt den Laptop mit dem CMTK verbindet sondern über den Router das CMTK ins Netzwerk einbindet\n",
    "- Sobald über die Konfiguration (http://cmtk/#/device-settings/0/database) das Datenerfassungsintervall verändert wird, ist das an den Zeitabständen des empfangenen MQTT Signals erkennbar\n",
    "- Die Anleitung im Developer Guide ist sehr hilfreich! https://dev.cmtk.de/1.6.0/getting-started/python/"
   ]
  },
  {
   "cell_type": "markdown",
   "id": "fd2f784a-ad4a-4d89-9ccc-d96e88ff50b1",
   "metadata": {},
   "source": [
    "## Zugang ohne Benutzername und Passwort aktiv"
   ]
  },
  {
   "cell_type": "markdown",
   "id": "bd76d1a6-ba5c-4ab9-986b-2fc06b556f59",
   "metadata": {},
   "source": [
    "Dieser Code funktioniert nur wenn in der MQTT-Konfiguration die Option \"Zugang ohne Benutzername und Passwort aktiv\" aktiviert ist"
   ]
  },
  {
   "cell_type": "code",
   "execution_count": null,
   "id": "9c71b148-94f0-45fc-a16d-3d4f2a0dd12c",
   "metadata": {},
   "outputs": [],
   "source": [
    "import paho.mqtt.client as mqtt\n",
    "\n",
    "if __name__ == '__main__':\n",
    "    # Parameters\n",
    "    host = \"192.168.0.7\"\n",
    "    port = 1883\n",
    "\n",
    "    # Message callback\n",
    "    def on_message(client, userdata, msg):\n",
    "        print(\"Topic: \" + msg.topic + \"\\nPayload: \" + str(msg.payload) + \"\\n\")\n",
    "\n",
    "    # Connection callback\n",
    "    def on_connect(client, userdata, flags, rc):\n",
    "      client.subscribe(\"cmtk/cmtkv1/port1/pd\")  \n",
    "\n",
    "    try:\n",
    "      # Connect \n",
    "      client = mqtt.Client()\n",
    "      client.on_connect = on_connect\n",
    "      client.on_message = on_message\n",
    "      client.connect(host, port, 6)\n",
    "\n",
    "      # Loop\n",
    "      client.loop_forever()\n",
    "\n",
    "      # Disconnect\n",
    "      client.disconnect()\n",
    "    except:\n",
    "        print(\"MQTT error.\")\n"
   ]
  },
  {
   "cell_type": "markdown",
   "id": "f251e7d0-6ebf-4df9-8054-087ecd4f59e1",
   "metadata": {},
   "source": [
    "## MQTT ohne TLS aktiv"
   ]
  },
  {
   "cell_type": "markdown",
   "id": "36c00926-9713-411e-af9d-230663a0fcb1",
   "metadata": {},
   "source": [
    "- Dieser Code funktioniert nur wenn in der MQTT-Konfiguration die Option \"MQTT ohne TLS aktiv\" aktiviert ist\n",
    "- Das Passwort muss in der Konfiguration gesetzt werden"
   ]
  },
  {
   "cell_type": "code",
   "execution_count": null,
   "id": "171516ec-2e34-4c83-babb-8f72790fa20f",
   "metadata": {
    "tags": []
   },
   "outputs": [],
   "source": [
    "client.username_pw_set(\"user\", \"test123\")\n",
    "\n",
    "client.connect(host, port, 6)\n",
    "# Loop\n",
    "client.loop_forever()\n",
    "# Disconnect\n",
    "client.disconnect()"
   ]
  },
  {
   "cell_type": "markdown",
   "id": "49a7665f-d475-42a6-89de-a69262054ebc",
   "metadata": {},
   "source": [
    "## MQTT mit TLS aktiv"
   ]
  },
  {
   "cell_type": "markdown",
   "id": "6f7ec5ca-6547-4129-8f92-9d253adad3e8",
   "metadata": {},
   "source": [
    "- Dieser Code funktioniert nur wenn in der MQTT-Konfiguration die Option \"MQTT mit TLS aktiv\" aktiviert ist\n",
    "- das Zertifikat kann über die Konfiguration heruntergeladen werden\n"
   ]
  },
  {
   "cell_type": "code",
   "execution_count": null,
   "id": "0c621bc3-a5ac-42e1-839c-daaa6d904267",
   "metadata": {},
   "outputs": [],
   "source": [
    "!pwd"
   ]
  },
  {
   "cell_type": "markdown",
   "id": "5b7d3204-4a08-49cd-9bcb-61e91de433d3",
   "metadata": {},
   "source": [
    "- das funktioniert nur wenn ich für broker_adress nicht die ip adresse (192.168.0.7) eingebe sondern den aufgelösten hostname \"cmtk\". Den aufgelösten hostname erhalte ich z.B. in der shell mit \"host 192.168.0.7\""
   ]
  },
  {
   "cell_type": "code",
   "execution_count": null,
   "id": "666d4468-431f-46da-bd19-68c284de75a9",
   "metadata": {},
   "outputs": [],
   "source": [
    "import ssl\n",
    "import paho.mqtt.client as mqtt\n",
    "\n",
    "# MQTT Broker information\n",
    "\n",
    "broker_address = \"cmtk\"  # replace with your broker address\n",
    "port = 8883  # specify the TLS port\n",
    "topic = \"cmtk/cmtkv1/port1/pd\"  # replace with the desired topic\n",
    "\n",
    "# TLS settings\n",
    "ca_cert = \"/Users/esentri/Documents/07_InterneProjekte/07_Balluff_Sensorik/ca.crt\"  # replace with the path to your CA certificate\n",
    "\n",
    "# Callback when the client receives a CONNACK response from the broker\n",
    "def on_connect(client, userdata, flags, rc):\n",
    "    print(f\"Connected with result code {rc}\")\n",
    "    client.subscribe(topic)\n",
    "\n",
    "# Callback when a message is received from the broker\n",
    "def on_message(client, userdata, msg):\n",
    "    print(f\"Received message on topic {msg.topic}: {msg.payload.decode()}\")\n",
    "\n",
    "# Create a MQTT client instance\n",
    "client = mqtt.Client()\n",
    "\n",
    "# Set TLS options with only the CA certificate\n",
    "client.tls_set(ca_certs=ca_cert, cert_reqs=ssl.CERT_REQUIRED)\n",
    "\n",
    "# Set callbacks\n",
    "client.on_connect = on_connect\n",
    "client.on_message = on_message\n",
    "\n",
    "# Connect to the broker\n",
    "client.connect(broker_address, port, keepalive=200)\n",
    "\n",
    "# Loop to maintain the connection and process messages\n",
    "client.loop_forever()\n"
   ]
  },
  {
   "cell_type": "code",
   "execution_count": null,
   "id": "02fbcb4b-088a-4287-8785-e56cf2dbfa36",
   "metadata": {},
   "outputs": [],
   "source": []
  }
 ],
 "metadata": {
  "kernelspec": {
   "display_name": "Python [conda env:balluff]",
   "language": "python",
   "name": "conda-env-balluff-py"
  },
  "language_info": {
   "codemirror_mode": {
    "name": "ipython",
    "version": 3
   },
   "file_extension": ".py",
   "mimetype": "text/x-python",
   "name": "python",
   "nbconvert_exporter": "python",
   "pygments_lexer": "ipython3",
   "version": "3.11.4"
  }
 },
 "nbformat": 4,
 "nbformat_minor": 5
}
