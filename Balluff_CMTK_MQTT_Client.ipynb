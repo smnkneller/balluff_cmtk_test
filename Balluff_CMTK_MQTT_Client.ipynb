{
 "cells": [
  {
   "cell_type": "markdown",
   "id": "e8e7971f-f92e-47eb-a2a0-e2881f7deea0",
   "metadata": {},
   "source": [
    "# MQTT Signal im lokalen Netz empfangen\n",
    "- ACHTUNG: die Host-IP adresse weicht von der in der Anleitung ab, sobald man nicht direkt den Laptop mit dem CMTK verbindet sondern über den Router das CMTK ins Netzwerk einbindet\n",
    "- Sobald über die Konfiguration (http://cmtk/#/device-settings/0/database) das Datenerfassungsintervall verändert wird, ist das an den Zeitabständen des empfangenen MQTT Signals erkennbar\n",
    "- Die Anleitung im Developer Guide ist sehr hilfreich! https://dev.cmtk.de/1.6.0/getting-started/python/"
   ]
  },
  {
   "cell_type": "markdown",
   "id": "fd2f784a-ad4a-4d89-9ccc-d96e88ff50b1",
   "metadata": {},
   "source": [
    "## Zugang ohne Benutzername und Passwort aktiv"
   ]
  },
  {
   "cell_type": "markdown",
   "id": "bd76d1a6-ba5c-4ab9-986b-2fc06b556f59",
   "metadata": {},
   "source": [
    "Dieser Code funktioniert nur wenn in der MQTT-Konfiguration die Option \"Zugang ohne Benutzername und Passwort aktiv\" aktiviert ist"
   ]
  },
  {
   "cell_type": "code",
   "execution_count": null,
   "id": "9c71b148-94f0-45fc-a16d-3d4f2a0dd12c",
   "metadata": {},
   "outputs": [],
   "source": [
    "import paho.mqtt.client as mqtt\n",
    "\n",
    "if __name__ == '__main__':\n",
    "    # Parameters\n",
    "    host = \"192.168.0.7\"\n",
    "    port = 1883\n",
    "\n",
    "    # Message callback\n",
    "    def on_message(client, userdata, msg):\n",
    "        print(\"Topic: \" + msg.topic + \"\\nPayload: \" + str(msg.payload) + \"\\n\")\n",
    "\n",
    "    # Connection callback\n",
    "    def on_connect(client, userdata, flags, rc):\n",
    "      client.subscribe(\"cmtk/cmtkv1/port1/pd\")  \n",
    "\n",
    "    try:\n",
    "      # Connect \n",
    "      client = mqtt.Client()\n",
    "      client.on_connect = on_connect\n",
    "      client.on_message = on_message\n",
    "      client.connect(host, port, 6)\n",
    "\n",
    "      # Loop\n",
    "      client.loop_forever()\n",
    "\n",
    "      # Disconnect\n",
    "      client.disconnect()\n",
    "    except:\n",
    "        print(\"MQTT error.\")\n"
   ]
  },
  {
   "cell_type": "markdown",
   "id": "f251e7d0-6ebf-4df9-8054-087ecd4f59e1",
   "metadata": {},
   "source": [
    "## MQTT ohne TLS aktiv"
   ]
  },
  {
   "cell_type": "markdown",
   "id": "36c00926-9713-411e-af9d-230663a0fcb1",
   "metadata": {},
   "source": [
    "- Dieser Code funktioniert nur wenn in der MQTT-Konfiguration die Option \"MQTT ohne TLS aktiv\" aktiviert ist\n",
    "- Das Passwort muss in der Konfiguration gesetzt werden"
   ]
  },
  {
   "cell_type": "code",
   "execution_count": null,
   "id": "171516ec-2e34-4c83-babb-8f72790fa20f",
   "metadata": {
    "tags": []
   },
   "outputs": [],
   "source": [
    "client.username_pw_set(\"user\", \"test123\")\n",
    "\n",
    "client.connect(host, port, 6)\n",
    "# Loop\n",
    "client.loop_forever()\n",
    "# Disconnect\n",
    "client.disconnect()"
   ]
  },
  {
   "cell_type": "markdown",
   "id": "49a7665f-d475-42a6-89de-a69262054ebc",
   "metadata": {},
   "source": [
    "## MQTT mit TLS aktiv"
   ]
  },
  {
   "cell_type": "markdown",
   "id": "6f7ec5ca-6547-4129-8f92-9d253adad3e8",
   "metadata": {},
   "source": [
    "- Dieser Code funktioniert nur wenn in der MQTT-Konfiguration die Option \"MQTT mit TLS aktiv\" aktiviert ist\n",
    "- das Zertifikat kann über die Konfiguration heruntergeladen werden\n"
   ]
  },
  {
   "cell_type": "code",
   "execution_count": null,
   "id": "0c621bc3-a5ac-42e1-839c-daaa6d904267",
   "metadata": {},
   "outputs": [],
   "source": [
    "!pwd"
   ]
  },
  {
   "cell_type": "code",
   "execution_count": null,
   "id": "17fa4e64-790d-46d1-9241-199bda19361a",
   "metadata": {},
   "outputs": [],
   "source": [
    "client.tls_set?"
   ]
  },
  {
   "cell_type": "code",
   "execution_count": null,
   "id": "faf826cf-b136-41e9-81c0-5fd021cb2948",
   "metadata": {},
   "outputs": [],
   "source": [
    "client.username_pw_set(\"user\", \"test123\")\n",
    "\n",
    "client.tls_set( \n",
    "               keyfile=\"Users/esentri/Documents/07_InterneProjekte/07_Balluff_Sensorik/ca.crt\")"
   ]
  },
  {
   "cell_type": "code",
   "execution_count": null,
   "id": "4e98996e-6630-4b12-bbf5-24788b79cb0e",
   "metadata": {},
   "outputs": [],
   "source": [
    "port = 8883\n",
    "client.connect(host, port, 6)\n",
    "# Loop\n",
    "client.loop_forever()\n",
    "# Disconnect\n",
    "client.disconnect()"
   ]
  },
  {
   "cell_type": "code",
   "execution_count": null,
   "id": "666d4468-431f-46da-bd19-68c284de75a9",
   "metadata": {},
   "outputs": [],
   "source": []
  }
 ],
 "metadata": {
  "kernelspec": {
   "display_name": "Python [conda env:balluff]",
   "language": "python",
   "name": "conda-env-balluff-py"
  },
  "language_info": {
   "codemirror_mode": {
    "name": "ipython",
    "version": 3
   },
   "file_extension": ".py",
   "mimetype": "text/x-python",
   "name": "python",
   "nbconvert_exporter": "python",
   "pygments_lexer": "ipython3",
   "version": "3.11.4"
  }
 },
 "nbformat": 4,
 "nbformat_minor": 5
}
